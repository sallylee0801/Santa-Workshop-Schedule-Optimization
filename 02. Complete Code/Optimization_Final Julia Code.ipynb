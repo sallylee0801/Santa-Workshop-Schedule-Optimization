{
 "cells": [
  {
   "cell_type": "markdown",
   "metadata": {},
   "source": [
    "# Team 10 Final Project - Santa's Workshop"
   ]
  },
  {
   "cell_type": "markdown",
   "metadata": {},
   "source": [
    "## Team Member: Bianca Gunawan, Jacky Lin, Kevin Ko, Sally Lee"
   ]
  },
  {
   "cell_type": "code",
   "execution_count": 1,
   "metadata": {},
   "outputs": [
    {
     "name": "stderr",
     "output_type": "stream",
     "text": [
      "\u001b[32m\u001b[1m   Resolving\u001b[22m\u001b[39m package versions...\n",
      "\u001b[32m\u001b[1m  No Changes\u001b[22m\u001b[39m to `~/.julia/environments/v1.10/Project.toml`\n",
      "\u001b[32m\u001b[1m  No Changes\u001b[22m\u001b[39m to `~/.julia/environments/v1.10/Manifest.toml`\n"
     ]
    }
   ],
   "source": [
    "import Pkg\n",
    "Pkg.add(\"HiGHS\")"
   ]
  },
  {
   "cell_type": "code",
   "execution_count": 2,
   "metadata": {
    "scrolled": true
   },
   "outputs": [
    {
     "data": {
      "text/html": [
       "<div><div style = \"float: left;\"><span>5000×12 DataFrame</span></div><div style = \"float: right;\"><span style = \"font-style: italic;\">4975 rows omitted</span></div><div style = \"clear: both;\"></div></div><div class = \"data-frame\" style = \"overflow-x: scroll;\"><table class = \"data-frame\" style = \"margin-bottom: 6px;\"><thead><tr class = \"header\"><th class = \"rowNumber\" style = \"font-weight: bold; text-align: right;\">Row</th><th style = \"text-align: left;\">family_id</th><th style = \"text-align: left;\">choice_0</th><th style = \"text-align: left;\">choice_1</th><th style = \"text-align: left;\">choice_2</th><th style = \"text-align: left;\">choice_3</th><th style = \"text-align: left;\">choice_4</th><th style = \"text-align: left;\">choice_5</th><th style = \"text-align: left;\">choice_6</th><th style = \"text-align: left;\">choice_7</th><th style = \"text-align: left;\">choice_8</th><th style = \"text-align: left;\">choice_9</th><th style = \"text-align: left;\">n_people</th></tr><tr class = \"subheader headerLastRow\"><th class = \"rowNumber\" style = \"font-weight: bold; text-align: right;\"></th><th title = \"Int64\" style = \"text-align: left;\">Int64</th><th title = \"Int64\" style = \"text-align: left;\">Int64</th><th title = \"Int64\" style = \"text-align: left;\">Int64</th><th title = \"Int64\" style = \"text-align: left;\">Int64</th><th title = \"Int64\" style = \"text-align: left;\">Int64</th><th title = \"Int64\" style = \"text-align: left;\">Int64</th><th title = \"Int64\" style = \"text-align: left;\">Int64</th><th title = \"Int64\" style = \"text-align: left;\">Int64</th><th title = \"Int64\" style = \"text-align: left;\">Int64</th><th title = \"Int64\" style = \"text-align: left;\">Int64</th><th title = \"Int64\" style = \"text-align: left;\">Int64</th><th title = \"Int64\" style = \"text-align: left;\">Int64</th></tr></thead><tbody><tr><td class = \"rowNumber\" style = \"font-weight: bold; text-align: right;\">1</td><td style = \"text-align: right;\">0</td><td style = \"text-align: right;\">52</td><td style = \"text-align: right;\">38</td><td style = \"text-align: right;\">12</td><td style = \"text-align: right;\">82</td><td style = \"text-align: right;\">33</td><td style = \"text-align: right;\">75</td><td style = \"text-align: right;\">64</td><td style = \"text-align: right;\">76</td><td style = \"text-align: right;\">10</td><td style = \"text-align: right;\">28</td><td style = \"text-align: right;\">4</td></tr><tr><td class = \"rowNumber\" style = \"font-weight: bold; text-align: right;\">2</td><td style = \"text-align: right;\">1</td><td style = \"text-align: right;\">26</td><td style = \"text-align: right;\">4</td><td style = \"text-align: right;\">82</td><td style = \"text-align: right;\">5</td><td style = \"text-align: right;\">11</td><td style = \"text-align: right;\">47</td><td style = \"text-align: right;\">38</td><td style = \"text-align: right;\">6</td><td style = \"text-align: right;\">66</td><td style = \"text-align: right;\">61</td><td style = \"text-align: right;\">4</td></tr><tr><td class = \"rowNumber\" style = \"font-weight: bold; text-align: right;\">3</td><td style = \"text-align: right;\">2</td><td style = \"text-align: right;\">100</td><td style = \"text-align: right;\">54</td><td style = \"text-align: right;\">25</td><td style = \"text-align: right;\">12</td><td style = \"text-align: right;\">27</td><td style = \"text-align: right;\">82</td><td style = \"text-align: right;\">10</td><td style = \"text-align: right;\">89</td><td style = \"text-align: right;\">80</td><td style = \"text-align: right;\">33</td><td style = \"text-align: right;\">3</td></tr><tr><td class = \"rowNumber\" style = \"font-weight: bold; text-align: right;\">4</td><td style = \"text-align: right;\">3</td><td style = \"text-align: right;\">2</td><td style = \"text-align: right;\">95</td><td style = \"text-align: right;\">1</td><td style = \"text-align: right;\">96</td><td style = \"text-align: right;\">32</td><td style = \"text-align: right;\">6</td><td style = \"text-align: right;\">40</td><td style = \"text-align: right;\">31</td><td style = \"text-align: right;\">9</td><td style = \"text-align: right;\">59</td><td style = \"text-align: right;\">2</td></tr><tr><td class = \"rowNumber\" style = \"font-weight: bold; text-align: right;\">5</td><td style = \"text-align: right;\">4</td><td style = \"text-align: right;\">53</td><td style = \"text-align: right;\">1</td><td style = \"text-align: right;\">47</td><td style = \"text-align: right;\">93</td><td style = \"text-align: right;\">26</td><td style = \"text-align: right;\">3</td><td style = \"text-align: right;\">46</td><td style = \"text-align: right;\">16</td><td style = \"text-align: right;\">42</td><td style = \"text-align: right;\">39</td><td style = \"text-align: right;\">4</td></tr><tr><td class = \"rowNumber\" style = \"font-weight: bold; text-align: right;\">6</td><td style = \"text-align: right;\">5</td><td style = \"text-align: right;\">32</td><td style = \"text-align: right;\">59</td><td style = \"text-align: right;\">12</td><td style = \"text-align: right;\">3</td><td style = \"text-align: right;\">60</td><td style = \"text-align: right;\">26</td><td style = \"text-align: right;\">35</td><td style = \"text-align: right;\">50</td><td style = \"text-align: right;\">5</td><td style = \"text-align: right;\">2</td><td style = \"text-align: right;\">4</td></tr><tr><td class = \"rowNumber\" style = \"font-weight: bold; text-align: right;\">7</td><td style = \"text-align: right;\">6</td><td style = \"text-align: right;\">88</td><td style = \"text-align: right;\">4</td><td style = \"text-align: right;\">1</td><td style = \"text-align: right;\">3</td><td style = \"text-align: right;\">91</td><td style = \"text-align: right;\">32</td><td style = \"text-align: right;\">39</td><td style = \"text-align: right;\">57</td><td style = \"text-align: right;\">28</td><td style = \"text-align: right;\">99</td><td style = \"text-align: right;\">2</td></tr><tr><td class = \"rowNumber\" style = \"font-weight: bold; text-align: right;\">8</td><td style = \"text-align: right;\">7</td><td style = \"text-align: right;\">25</td><td style = \"text-align: right;\">11</td><td style = \"text-align: right;\">52</td><td style = \"text-align: right;\">48</td><td style = \"text-align: right;\">10</td><td style = \"text-align: right;\">17</td><td style = \"text-align: right;\">88</td><td style = \"text-align: right;\">50</td><td style = \"text-align: right;\">95</td><td style = \"text-align: right;\">66</td><td style = \"text-align: right;\">5</td></tr><tr><td class = \"rowNumber\" style = \"font-weight: bold; text-align: right;\">9</td><td style = \"text-align: right;\">8</td><td style = \"text-align: right;\">18</td><td style = \"text-align: right;\">60</td><td style = \"text-align: right;\">1</td><td style = \"text-align: right;\">12</td><td style = \"text-align: right;\">89</td><td style = \"text-align: right;\">33</td><td style = \"text-align: right;\">16</td><td style = \"text-align: right;\">10</td><td style = \"text-align: right;\">53</td><td style = \"text-align: right;\">67</td><td style = \"text-align: right;\">4</td></tr><tr><td class = \"rowNumber\" style = \"font-weight: bold; text-align: right;\">10</td><td style = \"text-align: right;\">9</td><td style = \"text-align: right;\">1</td><td style = \"text-align: right;\">88</td><td style = \"text-align: right;\">39</td><td style = \"text-align: right;\">50</td><td style = \"text-align: right;\">26</td><td style = \"text-align: right;\">18</td><td style = \"text-align: right;\">96</td><td style = \"text-align: right;\">47</td><td style = \"text-align: right;\">46</td><td style = \"text-align: right;\">28</td><td style = \"text-align: right;\">7</td></tr><tr><td class = \"rowNumber\" style = \"font-weight: bold; text-align: right;\">11</td><td style = \"text-align: right;\">10</td><td style = \"text-align: right;\">96</td><td style = \"text-align: right;\">92</td><td style = \"text-align: right;\">8</td><td style = \"text-align: right;\">5</td><td style = \"text-align: right;\">67</td><td style = \"text-align: right;\">12</td><td style = \"text-align: right;\">57</td><td style = \"text-align: right;\">34</td><td style = \"text-align: right;\">80</td><td style = \"text-align: right;\">46</td><td style = \"text-align: right;\">7</td></tr><tr><td class = \"rowNumber\" style = \"font-weight: bold; text-align: right;\">12</td><td style = \"text-align: right;\">11</td><td style = \"text-align: right;\">19</td><td style = \"text-align: right;\">75</td><td style = \"text-align: right;\">39</td><td style = \"text-align: right;\">44</td><td style = \"text-align: right;\">2</td><td style = \"text-align: right;\">68</td><td style = \"text-align: right;\">53</td><td style = \"text-align: right;\">89</td><td style = \"text-align: right;\">7</td><td style = \"text-align: right;\">94</td><td style = \"text-align: right;\">7</td></tr><tr><td class = \"rowNumber\" style = \"font-weight: bold; text-align: right;\">13</td><td style = \"text-align: right;\">12</td><td style = \"text-align: right;\">52</td><td style = \"text-align: right;\">98</td><td style = \"text-align: right;\">53</td><td style = \"text-align: right;\">1</td><td style = \"text-align: right;\">39</td><td style = \"text-align: right;\">67</td><td style = \"text-align: right;\">87</td><td style = \"text-align: right;\">24</td><td style = \"text-align: right;\">65</td><td style = \"text-align: right;\">95</td><td style = \"text-align: right;\">6</td></tr><tr><td style = \"text-align: right;\">&vellip;</td><td style = \"text-align: right;\">&vellip;</td><td style = \"text-align: right;\">&vellip;</td><td style = \"text-align: right;\">&vellip;</td><td style = \"text-align: right;\">&vellip;</td><td style = \"text-align: right;\">&vellip;</td><td style = \"text-align: right;\">&vellip;</td><td style = \"text-align: right;\">&vellip;</td><td style = \"text-align: right;\">&vellip;</td><td style = \"text-align: right;\">&vellip;</td><td style = \"text-align: right;\">&vellip;</td><td style = \"text-align: right;\">&vellip;</td><td style = \"text-align: right;\">&vellip;</td></tr><tr><td class = \"rowNumber\" style = \"font-weight: bold; text-align: right;\">4989</td><td style = \"text-align: right;\">4988</td><td style = \"text-align: right;\">88</td><td style = \"text-align: right;\">73</td><td style = \"text-align: right;\">89</td><td style = \"text-align: right;\">11</td><td style = \"text-align: right;\">75</td><td style = \"text-align: right;\">94</td><td style = \"text-align: right;\">84</td><td style = \"text-align: right;\">82</td><td style = \"text-align: right;\">3</td><td style = \"text-align: right;\">40</td><td style = \"text-align: right;\">2</td></tr><tr><td class = \"rowNumber\" style = \"font-weight: bold; text-align: right;\">4990</td><td style = \"text-align: right;\">4989</td><td style = \"text-align: right;\">59</td><td style = \"text-align: right;\">92</td><td style = \"text-align: right;\">31</td><td style = \"text-align: right;\">14</td><td style = \"text-align: right;\">38</td><td style = \"text-align: right;\">75</td><td style = \"text-align: right;\">60</td><td style = \"text-align: right;\">49</td><td style = \"text-align: right;\">78</td><td style = \"text-align: right;\">12</td><td style = \"text-align: right;\">6</td></tr><tr><td class = \"rowNumber\" style = \"font-weight: bold; text-align: right;\">4991</td><td style = \"text-align: right;\">4990</td><td style = \"text-align: right;\">47</td><td style = \"text-align: right;\">61</td><td style = \"text-align: right;\">74</td><td style = \"text-align: right;\">12</td><td style = \"text-align: right;\">80</td><td style = \"text-align: right;\">46</td><td style = \"text-align: right;\">32</td><td style = \"text-align: right;\">94</td><td style = \"text-align: right;\">4</td><td style = \"text-align: right;\">19</td><td style = \"text-align: right;\">8</td></tr><tr><td class = \"rowNumber\" style = \"font-weight: bold; text-align: right;\">4992</td><td style = \"text-align: right;\">4991</td><td style = \"text-align: right;\">45</td><td style = \"text-align: right;\">47</td><td style = \"text-align: right;\">29</td><td style = \"text-align: right;\">1</td><td style = \"text-align: right;\">83</td><td style = \"text-align: right;\">5</td><td style = \"text-align: right;\">49</td><td style = \"text-align: right;\">14</td><td style = \"text-align: right;\">91</td><td style = \"text-align: right;\">75</td><td style = \"text-align: right;\">4</td></tr><tr><td class = \"rowNumber\" style = \"font-weight: bold; text-align: right;\">4993</td><td style = \"text-align: right;\">4992</td><td style = \"text-align: right;\">12</td><td style = \"text-align: right;\">75</td><td style = \"text-align: right;\">31</td><td style = \"text-align: right;\">90</td><td style = \"text-align: right;\">22</td><td style = \"text-align: right;\">26</td><td style = \"text-align: right;\">76</td><td style = \"text-align: right;\">32</td><td style = \"text-align: right;\">1</td><td style = \"text-align: right;\">52</td><td style = \"text-align: right;\">3</td></tr><tr><td class = \"rowNumber\" style = \"font-weight: bold; text-align: right;\">4994</td><td style = \"text-align: right;\">4993</td><td style = \"text-align: right;\">62</td><td style = \"text-align: right;\">1</td><td style = \"text-align: right;\">89</td><td style = \"text-align: right;\">66</td><td style = \"text-align: right;\">28</td><td style = \"text-align: right;\">60</td><td style = \"text-align: right;\">81</td><td style = \"text-align: right;\">40</td><td style = \"text-align: right;\">88</td><td style = \"text-align: right;\">13</td><td style = \"text-align: right;\">7</td></tr><tr><td class = \"rowNumber\" style = \"font-weight: bold; text-align: right;\">4995</td><td style = \"text-align: right;\">4994</td><td style = \"text-align: right;\">52</td><td style = \"text-align: right;\">59</td><td style = \"text-align: right;\">1</td><td style = \"text-align: right;\">54</td><td style = \"text-align: right;\">80</td><td style = \"text-align: right;\">87</td><td style = \"text-align: right;\">16</td><td style = \"text-align: right;\">47</td><td style = \"text-align: right;\">13</td><td style = \"text-align: right;\">15</td><td style = \"text-align: right;\">4</td></tr><tr><td class = \"rowNumber\" style = \"font-weight: bold; text-align: right;\">4996</td><td style = \"text-align: right;\">4995</td><td style = \"text-align: right;\">16</td><td style = \"text-align: right;\">1</td><td style = \"text-align: right;\">66</td><td style = \"text-align: right;\">33</td><td style = \"text-align: right;\">18</td><td style = \"text-align: right;\">70</td><td style = \"text-align: right;\">56</td><td style = \"text-align: right;\">46</td><td style = \"text-align: right;\">86</td><td style = \"text-align: right;\">60</td><td style = \"text-align: right;\">4</td></tr><tr><td class = \"rowNumber\" style = \"font-weight: bold; text-align: right;\">4997</td><td style = \"text-align: right;\">4996</td><td style = \"text-align: right;\">88</td><td style = \"text-align: right;\">66</td><td style = \"text-align: right;\">20</td><td style = \"text-align: right;\">17</td><td style = \"text-align: right;\">26</td><td style = \"text-align: right;\">54</td><td style = \"text-align: right;\">81</td><td style = \"text-align: right;\">91</td><td style = \"text-align: right;\">59</td><td style = \"text-align: right;\">48</td><td style = \"text-align: right;\">2</td></tr><tr><td class = \"rowNumber\" style = \"font-weight: bold; text-align: right;\">4998</td><td style = \"text-align: right;\">4997</td><td style = \"text-align: right;\">32</td><td style = \"text-align: right;\">66</td><td style = \"text-align: right;\">54</td><td style = \"text-align: right;\">17</td><td style = \"text-align: right;\">27</td><td style = \"text-align: right;\">21</td><td style = \"text-align: right;\">74</td><td style = \"text-align: right;\">81</td><td style = \"text-align: right;\">3</td><td style = \"text-align: right;\">7</td><td style = \"text-align: right;\">6</td></tr><tr><td class = \"rowNumber\" style = \"font-weight: bold; text-align: right;\">4999</td><td style = \"text-align: right;\">4998</td><td style = \"text-align: right;\">67</td><td style = \"text-align: right;\">92</td><td style = \"text-align: right;\">4</td><td style = \"text-align: right;\">17</td><td style = \"text-align: right;\">53</td><td style = \"text-align: right;\">77</td><td style = \"text-align: right;\">1</td><td style = \"text-align: right;\">12</td><td style = \"text-align: right;\">26</td><td style = \"text-align: right;\">70</td><td style = \"text-align: right;\">5</td></tr><tr><td class = \"rowNumber\" style = \"font-weight: bold; text-align: right;\">5000</td><td style = \"text-align: right;\">4999</td><td style = \"text-align: right;\">13</td><td style = \"text-align: right;\">11</td><td style = \"text-align: right;\">25</td><td style = \"text-align: right;\">80</td><td style = \"text-align: right;\">88</td><td style = \"text-align: right;\">40</td><td style = \"text-align: right;\">96</td><td style = \"text-align: right;\">39</td><td style = \"text-align: right;\">18</td><td style = \"text-align: right;\">47</td><td style = \"text-align: right;\">4</td></tr></tbody></table></div>"
      ],
      "text/latex": [
       "\\begin{tabular}{r|ccccccccc}\n",
       "\t& family\\_id & choice\\_0 & choice\\_1 & choice\\_2 & choice\\_3 & choice\\_4 & choice\\_5 & choice\\_6 & \\\\\n",
       "\t\\hline\n",
       "\t& Int64 & Int64 & Int64 & Int64 & Int64 & Int64 & Int64 & Int64 & \\\\\n",
       "\t\\hline\n",
       "\t1 & 0 & 52 & 38 & 12 & 82 & 33 & 75 & 64 & $\\dots$ \\\\\n",
       "\t2 & 1 & 26 & 4 & 82 & 5 & 11 & 47 & 38 & $\\dots$ \\\\\n",
       "\t3 & 2 & 100 & 54 & 25 & 12 & 27 & 82 & 10 & $\\dots$ \\\\\n",
       "\t4 & 3 & 2 & 95 & 1 & 96 & 32 & 6 & 40 & $\\dots$ \\\\\n",
       "\t5 & 4 & 53 & 1 & 47 & 93 & 26 & 3 & 46 & $\\dots$ \\\\\n",
       "\t6 & 5 & 32 & 59 & 12 & 3 & 60 & 26 & 35 & $\\dots$ \\\\\n",
       "\t7 & 6 & 88 & 4 & 1 & 3 & 91 & 32 & 39 & $\\dots$ \\\\\n",
       "\t8 & 7 & 25 & 11 & 52 & 48 & 10 & 17 & 88 & $\\dots$ \\\\\n",
       "\t9 & 8 & 18 & 60 & 1 & 12 & 89 & 33 & 16 & $\\dots$ \\\\\n",
       "\t10 & 9 & 1 & 88 & 39 & 50 & 26 & 18 & 96 & $\\dots$ \\\\\n",
       "\t11 & 10 & 96 & 92 & 8 & 5 & 67 & 12 & 57 & $\\dots$ \\\\\n",
       "\t12 & 11 & 19 & 75 & 39 & 44 & 2 & 68 & 53 & $\\dots$ \\\\\n",
       "\t13 & 12 & 52 & 98 & 53 & 1 & 39 & 67 & 87 & $\\dots$ \\\\\n",
       "\t14 & 13 & 54 & 52 & 25 & 53 & 1 & 60 & 10 & $\\dots$ \\\\\n",
       "\t15 & 14 & 45 & 25 & 34 & 38 & 88 & 16 & 1 & $\\dots$ \\\\\n",
       "\t16 & 15 & 22 & 4 & 82 & 10 & 5 & 58 & 75 & $\\dots$ \\\\\n",
       "\t17 & 16 & 46 & 50 & 1 & 17 & 52 & 74 & 7 & $\\dots$ \\\\\n",
       "\t18 & 17 & 47 & 52 & 74 & 5 & 4 & 40 & 79 & $\\dots$ \\\\\n",
       "\t19 & 18 & 75 & 87 & 74 & 38 & 52 & 13 & 10 & $\\dots$ \\\\\n",
       "\t20 & 19 & 3 & 12 & 5 & 1 & 7 & 26 & 49 & $\\dots$ \\\\\n",
       "\t21 & 20 & 3 & 88 & 17 & 68 & 32 & 73 & 25 & $\\dots$ \\\\\n",
       "\t22 & 21 & 56 & 1 & 45 & 69 & 31 & 4 & 80 & $\\dots$ \\\\\n",
       "\t23 & 22 & 61 & 33 & 1 & 82 & 60 & 10 & 92 & $\\dots$ \\\\\n",
       "\t24 & 23 & 19 & 82 & 18 & 73 & 11 & 68 & 3 & $\\dots$ \\\\\n",
       "\t25 & 24 & 75 & 95 & 24 & 4 & 38 & 52 & 3 & $\\dots$ \\\\\n",
       "\t26 & 25 & 16 & 11 & 12 & 53 & 3 & 98 & 25 & $\\dots$ \\\\\n",
       "\t27 & 26 & 58 & 95 & 4 & 25 & 66 & 62 & 53 & $\\dots$ \\\\\n",
       "\t28 & 27 & 38 & 95 & 1 & 43 & 88 & 39 & 9 & $\\dots$ \\\\\n",
       "\t29 & 28 & 81 & 27 & 54 & 21 & 45 & 67 & 33 & $\\dots$ \\\\\n",
       "\t30 & 29 & 89 & 8 & 1 & 82 & 80 & 67 & 54 & $\\dots$ \\\\\n",
       "\t$\\dots$ & $\\dots$ & $\\dots$ & $\\dots$ & $\\dots$ & $\\dots$ & $\\dots$ & $\\dots$ & $\\dots$ &  \\\\\n",
       "\\end{tabular}\n"
      ],
      "text/plain": [
       "\u001b[1m5000×12 DataFrame\u001b[0m\n",
       "\u001b[1m  Row \u001b[0m│\u001b[1m family_id \u001b[0m\u001b[1m choice_0 \u001b[0m\u001b[1m choice_1 \u001b[0m\u001b[1m choice_2 \u001b[0m\u001b[1m choice_3 \u001b[0m\u001b[1m choice_4 \u001b[0m\u001b[1m choice_5 \u001b[0m\u001b[1m\u001b[0m ⋯\n",
       "      │\u001b[90m Int64     \u001b[0m\u001b[90m Int64    \u001b[0m\u001b[90m Int64    \u001b[0m\u001b[90m Int64    \u001b[0m\u001b[90m Int64    \u001b[0m\u001b[90m Int64    \u001b[0m\u001b[90m Int64    \u001b[0m\u001b[90m\u001b[0m ⋯\n",
       "──────┼─────────────────────────────────────────────────────────────────────────\n",
       "    1 │         0        52        38        12        82        33        75  ⋯\n",
       "    2 │         1        26         4        82         5        11        47\n",
       "    3 │         2       100        54        25        12        27        82\n",
       "    4 │         3         2        95         1        96        32         6\n",
       "    5 │         4        53         1        47        93        26         3  ⋯\n",
       "    6 │         5        32        59        12         3        60        26\n",
       "    7 │         6        88         4         1         3        91        32\n",
       "    8 │         7        25        11        52        48        10        17\n",
       "    9 │         8        18        60         1        12        89        33  ⋯\n",
       "   10 │         9         1        88        39        50        26        18\n",
       "   11 │        10        96        92         8         5        67        12\n",
       "  ⋮   │     ⋮         ⋮         ⋮         ⋮         ⋮         ⋮         ⋮      ⋱\n",
       " 4991 │      4990        47        61        74        12        80        46\n",
       " 4992 │      4991        45        47        29         1        83         5  ⋯\n",
       " 4993 │      4992        12        75        31        90        22        26\n",
       " 4994 │      4993        62         1        89        66        28        60\n",
       " 4995 │      4994        52        59         1        54        80        87\n",
       " 4996 │      4995        16         1        66        33        18        70  ⋯\n",
       " 4997 │      4996        88        66        20        17        26        54\n",
       " 4998 │      4997        32        66        54        17        27        21\n",
       " 4999 │      4998        67        92         4        17        53        77\n",
       " 5000 │      4999        13        11        25        80        88        40  ⋯\n",
       "\u001b[36m                                                 5 columns and 4979 rows omitted\u001b[0m"
      ]
     },
     "execution_count": 2,
     "metadata": {},
     "output_type": "execute_result"
    }
   ],
   "source": [
    "using JuMP, HiGHS, CSV, DataFrames\n",
    "\n",
    "file_path = \"/Users/sally/Desktop/ADSP 32013 Optimization/Final Project/family_data.csv\"\n",
    "df = CSV.read(file_path, DataFrame)\n",
    "\n",
    "df"
   ]
  },
  {
   "cell_type": "markdown",
   "metadata": {},
   "source": [
    "# Start testing with 10 families and 10 days (10, 10)"
   ]
  },
  {
   "cell_type": "code",
   "execution_count": 3,
   "metadata": {},
   "outputs": [
    {
     "name": "stdout",
     "output_type": "stream",
     "text": [
      "Running HiGHS 1.6.0: Copyright (c) 2023 HiGHS under MIT licence terms\n",
      "Presolving model\n",
      "20 rows, 100 cols, 200 nonzeros\n",
      "20 rows, 100 cols, 200 nonzeros\n",
      "Objective function is integral with scale 1\n",
      "\n",
      "Solving MIP model with:\n",
      "   20 rows\n",
      "   100 cols (100 binary, 0 integer, 0 implied int., 0 continuous)\n",
      "   200 nonzeros\n",
      "\n",
      "        Nodes      |    B&B Tree     |            Objective Bounds              |  Dynamic Constraints |       Work      \n",
      "     Proc. InQueue |  Leaves   Expl. | BestBound       BestSol              Gap |   Cuts   InLp Confl. | LpIters     Time\n",
      "\n",
      "         0       0         0   0.00%   0               inf                  inf        0      0      0         0     0.0s\n",
      " R       0       0         0   0.00%   2150.285714     3191              32.61%        0      0      0        13     0.0s\n",
      " L       0       0         0   0.00%   2725.5          3163              13.83%       11      1     10        16     0.0s\n",
      "\n",
      "45.0% inactive integer columns, restarting\n",
      "Model after restart has 16 rows, 53 cols (53 bin., 0 int., 0 impl., 0 cont.), and 106 nonzeros\n",
      "\n",
      "         0       0         0   0.00%   3025.4          3163               4.35%        3      0      0        26     0.0s\n",
      "         0       0         0   0.00%   3025.4          3163               4.35%        3      3      2        32     0.0s\n",
      "\n",
      "Solving report\n",
      "  Status            Optimal\n",
      "  Primal bound      3163\n",
      "  Dual bound        3163\n",
      "  Gap               0% (tolerance: 0.01%)\n",
      "  Solution status   feasible\n",
      "                    3163 (objective)\n",
      "                    0 (bound viol.)\n",
      "                    0 (int. viol.)\n",
      "                    0 (row viol.)\n",
      "  Timing            0.01 (total)\n",
      "                    0.00 (presolve)\n",
      "                    0.00 (postsolve)\n",
      "  Nodes             1\n",
      "  LP iterations     38 (total)\n",
      "                    0 (strong br.)\n",
      "                    9 (separation)\n",
      "                    7 (heuristics)\n"
     ]
    },
    {
     "data": {
      "text/plain": [
       "OPTIMAL::TerminationStatusCode = 1"
      ]
     },
     "execution_count": 3,
     "metadata": {},
     "output_type": "execute_result"
    }
   ],
   "source": [
    "#Sample size (10,10)\n",
    "\n",
    "n, m = 10, 10\n",
    "\n",
    "model = Model(HiGHS.Optimizer)\n",
    "\n",
    "@variable(model, Family_Attendance[1:n, 1:m], Bin)\n",
    "\n",
    "function num_people(i)\n",
    "    return df[i, \"n_people\"]\n",
    "end\n",
    "\n",
    "function cost_per_family(i,j)\n",
    "    if j == df[i, \"choice_0\"]\n",
    "        c = 0\n",
    "    elseif j == df[i, \"choice_1\"]\n",
    "        c = 50\n",
    "    elseif j == df[i, \"choice_2\"]\n",
    "        c = 50 + 9 * num_people(i)\n",
    "    elseif j == df[i, \"choice_3\"]\n",
    "        c = 100 + 9 * num_people(i)\n",
    "    elseif j == df[i, \"choice_4\"]\n",
    "        c = 200 + 9 * num_people(i)\n",
    "    elseif j == df[i, \"choice_5\"]\n",
    "        c = 200 + 18 * num_people(i)\n",
    "    elseif j == df[i, \"choice_6\"]\n",
    "        c = 300 + 18 * num_people(i)\n",
    "    elseif j == df[i, \"choice_7\"]\n",
    "        c = 300 + 36 * num_people(i)\n",
    "    elseif j == df[i, \"choice_8\"]\n",
    "        c = 400 + 36 * num_people(i)\n",
    "    elseif j == df[i, \"choice_9\"]\n",
    "        c = 699 + 36 * num_people(i)\n",
    "    else\n",
    "        c = 898 + 36 * num_people(i)\n",
    "    end\n",
    "    return c\n",
    "end\n",
    "\n",
    "#row\n",
    "for i=1:n\n",
    "    @constraint(model, sum(Family_Attendance[i,:])==1)\n",
    "end\n",
    "\n",
    "#column\n",
    "for j=1:m\n",
    "    @constraint(model, 0 <= sum(Family_Attendance[:, j] .* df[1:n, \"n_people\"]) <= 10)\n",
    "end\n",
    "\n",
    "@objective(model, Min, sum(sum(cost_per_family(i, j) * Family_Attendance[i, j] for j=1:m) for i=1:n))\n",
    "\n",
    "JuMP.optimize!(model)\n",
    "\n",
    "term_status = JuMP.termination_status(model)"
   ]
  },
  {
   "cell_type": "code",
   "execution_count": 4,
   "metadata": {},
   "outputs": [
    {
     "name": "stdout",
     "output_type": "stream",
     "text": [
      "Optimal Total Cost: 3163.0\n",
      "Number of people visiting each day:\n",
      "Day 1: 8.0 people\n",
      "Day 2: 2.0 people\n",
      "Day 3: 4.0 people\n",
      "Day 4: 6.0 people\n",
      "Day 5: 4.0 people\n",
      "Day 6: 0.0 people\n",
      "Day 7: 7.0 people\n",
      "Day 8: 0.0 people\n",
      "Day 9: 0.0 people\n",
      "Day 10: 8.0 people\n"
     ]
    }
   ],
   "source": [
    "# Check if the optimization was successful\n",
    "if termination_status(model) == MOI.OPTIMAL\n",
    "    # Print the optimal total cost\n",
    "    println(\"Optimal Total Cost: \", objective_value(model))\n",
    "\n",
    "    # Print number of people visiting each day (z)\n",
    "    println(\"Number of people visiting each day:\")\n",
    "    for j in 1:m\n",
    "        println(\"Day $j: \", sum(value(Family_Attendance[i, j]) * num_people(i) for i in 1:n), \" people\")\n",
    "    end\n",
    "else\n",
    "    println(\"No optimal solution found.\")\n",
    "end"
   ]
  },
  {
   "cell_type": "markdown",
   "metadata": {},
   "source": [
    "# Start testing with 100 families and 10 days (100, 10)"
   ]
  },
  {
   "cell_type": "code",
   "execution_count": 5,
   "metadata": {},
   "outputs": [
    {
     "name": "stdout",
     "output_type": "stream",
     "text": [
      "Running HiGHS 1.6.0: Copyright (c) 2023 HiGHS under MIT licence terms\n",
      "Presolving model\n",
      "110 rows, 1000 cols, 2000 nonzeros\n",
      "110 rows, 1000 cols, 2000 nonzeros\n",
      "Objective function is integral with scale 1\n",
      "\n",
      "Solving MIP model with:\n",
      "   110 rows\n",
      "   1000 cols (1000 binary, 0 integer, 0 implied int., 0 continuous)\n",
      "   2000 nonzeros\n",
      "\n",
      "        Nodes      |    B&B Tree     |            Objective Bounds              |  Dynamic Constraints |       Work      \n",
      "     Proc. InQueue |  Leaves   Expl. | BestBound       BestSol              Gap |   Cuts   InLp Confl. | LpIters     Time\n",
      "\n",
      "         0       0         0   0.00%   0               inf                  inf        0      0      0         0     0.0s\n",
      " R       0       0         0   0.00%   33645.285714    35882              6.23%        0      0      0       129     0.0s\n",
      " L       0       0         0   0.00%   33848           33848              0.00%      112     14     11       154     0.0s\n",
      "\n",
      "Solving report\n",
      "  Status            Optimal\n",
      "  Primal bound      33848\n",
      "  Dual bound        33848\n",
      "  Gap               0% (tolerance: 0.01%)\n",
      "  Solution status   feasible\n",
      "                    33848 (objective)\n",
      "                    0 (bound viol.)\n",
      "                    0 (int. viol.)\n",
      "                    0 (row viol.)\n",
      "  Timing            0.03 (total)\n",
      "                    0.00 (presolve)\n",
      "                    0.00 (postsolve)\n",
      "  Nodes             1\n",
      "  LP iterations     192 (total)\n",
      "                    0 (strong br.)\n",
      "                    25 (separation)\n",
      "                    38 (heuristics)\n"
     ]
    },
    {
     "data": {
      "text/plain": [
       "OPTIMAL::TerminationStatusCode = 1"
      ]
     },
     "execution_count": 5,
     "metadata": {},
     "output_type": "execute_result"
    }
   ],
   "source": [
    "#Sample size (100,10)\n",
    "\n",
    "n, m = 100, 10\n",
    "\n",
    "model = Model(HiGHS.Optimizer)\n",
    "\n",
    "@variable(model, Family_Attendance[1:n, 1:m], Bin)\n",
    "\n",
    "function num_people(i)\n",
    "    return df[i, \"n_people\"]\n",
    "end\n",
    "\n",
    "function cost_per_family(i,j)\n",
    "    if j == df[i, \"choice_0\"]\n",
    "        c = 0\n",
    "    elseif j == df[i, \"choice_1\"]\n",
    "        c = 50\n",
    "    elseif j == df[i, \"choice_2\"]\n",
    "        c = 50 + 9 * num_people(i)\n",
    "    elseif j == df[i, \"choice_3\"]\n",
    "        c = 100 + 9 * num_people(i)\n",
    "    elseif j == df[i, \"choice_4\"]\n",
    "        c = 200 + 9 * num_people(i)\n",
    "    elseif j == df[i, \"choice_5\"]\n",
    "        c = 200 + 18 * num_people(i)\n",
    "    elseif j == df[i, \"choice_6\"]\n",
    "        c = 300 + 18 * num_people(i)\n",
    "    elseif j == df[i, \"choice_7\"]\n",
    "        c = 300 + 36 * num_people(i)\n",
    "    elseif j == df[i, \"choice_8\"]\n",
    "        c = 400 + 36 * num_people(i)\n",
    "    elseif j == df[i, \"choice_9\"]\n",
    "        c = 699 + 36 * num_people(i)\n",
    "    else\n",
    "        c = 898 + 36 * num_people(i)\n",
    "    end\n",
    "    return c\n",
    "end\n",
    "\n",
    "#row\n",
    "for i=1:n\n",
    "    @constraint(model, sum(Family_Attendance[i,:])==1)\n",
    "end\n",
    "\n",
    "#column\n",
    "for j=1:m\n",
    "    @constraint(model, 0 <= sum(Family_Attendance[:, j] .* df[1:n, \"n_people\"]) <= 50)\n",
    "end\n",
    "\n",
    "@objective(model, Min, sum(sum(cost_per_family(i, j) * Family_Attendance[i, j] for j=1:m) for i=1:n))\n",
    "\n",
    "JuMP.optimize!(model)\n",
    "\n",
    "term_status = JuMP.termination_status(model)"
   ]
  },
  {
   "cell_type": "code",
   "execution_count": 6,
   "metadata": {
    "scrolled": true
   },
   "outputs": [
    {
     "name": "stdout",
     "output_type": "stream",
     "text": [
      "Optimal Total Cost: 33848.0\n",
      "Number of people visiting each day:\n",
      "Day 1: 50.0 people\n",
      "Day 2: 45.0 people\n",
      "Day 3: 50.0 people\n",
      "Day 4: 49.0 people\n",
      "Day 5: 50.0 people\n",
      "Day 6: 12.0 people\n",
      "Day 7: 25.0 people\n",
      "Day 8: 44.0 people\n",
      "Day 9: 22.0 people\n",
      "Day 10: 50.0 people\n"
     ]
    }
   ],
   "source": [
    "# Check if the optimization was successful\n",
    "if termination_status(model) == MOI.OPTIMAL\n",
    "    # Print the optimal total cost\n",
    "    println(\"Optimal Total Cost: \", objective_value(model))\n",
    "\n",
    "    # Print number of people visiting each day (z)\n",
    "    println(\"Number of people visiting each day:\")\n",
    "    for j in 1:m\n",
    "        println(\"Day $j: \", sum(value(Family_Attendance[i, j]) * num_people(i) for i in 1:n), \" people\")\n",
    "    end\n",
    "else\n",
    "    println(\"No optimal solution found.\")\n",
    "end"
   ]
  },
  {
   "cell_type": "markdown",
   "metadata": {},
   "source": [
    "# Full Scale of 5000 families and 100 days (5000, 100)"
   ]
  },
  {
   "cell_type": "code",
   "execution_count": null,
   "metadata": {},
   "outputs": [],
   "source": [
    "n, m = 5000, 100\n",
    "\n",
    "min_cost = 10000\n",
    "max_cost = 60000\n",
    "\n",
    "model = Model(HiGHS.Optimizer)\n",
    "\n",
    "@variable(model, Family_Attendance[1:n, 1:m], Bin)\n",
    "\n",
    "function num_people(i)\n",
    "    return df[i, \"n_people\"]\n",
    "end\n",
    "\n",
    "function cost_per_family(i,j)\n",
    "    if j == df[i, \"choice_0\"]\n",
    "        c = 0\n",
    "    elseif j == df[i, \"choice_1\"]\n",
    "        c = 50\n",
    "    elseif j == df[i, \"choice_2\"]\n",
    "        c = 50 + 9 * num_people(i)\n",
    "    elseif j == df[i, \"choice_3\"]\n",
    "        c = 100 + 9 * num_people(i)\n",
    "    elseif j == df[i, \"choice_4\"]\n",
    "        c = 200 + 9 * num_people(i)\n",
    "    elseif j == df[i, \"choice_5\"]\n",
    "        c = 200 + 18 * num_people(i)\n",
    "    elseif j == df[i, \"choice_6\"]\n",
    "        c = 300 + 18 * num_people(i)\n",
    "    elseif j == df[i, \"choice_7\"]\n",
    "        c = 300 + 36 * num_people(i)\n",
    "    elseif j == df[i, \"choice_8\"]\n",
    "        c = 400 + 36 * num_people(i)\n",
    "    elseif j == df[i, \"choice_9\"]\n",
    "        c = 699 + 36 * num_people(i)\n",
    "    else\n",
    "        c = 898 + 36 * num_people(i)\n",
    "    end\n",
    "    return c\n",
    "end\n",
    "\n",
    "@constraint(model, sum(sum(cost_per_family(i, j) * Family_Attendance[i, j] for j=1:m) for i=1:n) >= min_cost)\n",
    "@constraint(model, sum(sum(cost_per_family(i, j) * Family_Attendance[i, j] for j=1:m) for i=1:n) <= max_cost)\n",
    "\n",
    "#row\n",
    "for i=1:n\n",
    "    @constraint(model, sum(Family_Attendance[i,:])==1)\n",
    "end\n",
    "\n",
    "#column\n",
    "for j=1:m\n",
    "    @constraint(model, 125 <= sum(Family_Attendance[:, j] .* df[1:n, \"n_people\"]) <= 300)\n",
    "end\n",
    "\n",
    "@objective(model, Min, sum(sum(cost_per_family(i, j) * Family_Attendance[i, j] for j=1:m) for i=1:n))\n",
    "\n",
    "JuMP.optimize!(model)\n",
    "\n",
    "term_status = JuMP.termination_status(model)"
   ]
  },
  {
   "cell_type": "code",
   "execution_count": null,
   "metadata": {},
   "outputs": [],
   "source": [
    "# Check if the optimization was successful\n",
    "if termination_status(model) == MOI.OPTIMAL\n",
    "    # Print the optimal total cost\n",
    "    println(\"Optimal Total Cost: \", objective_value(model))\n",
    "\n",
    "    # Print number of people visiting each day (z)\n",
    "    println(\"Number of people visiting each day:\")\n",
    "    for j in 1:m\n",
    "        println(\"Day $j: \", sum(value(Family_Attendance[i, j]) * num_people(i) for i in 1:n), \" people\")\n",
    "    end\n",
    "else\n",
    "    println(\"No optimal solution found.\")\n",
    "end"
   ]
  },
  {
   "cell_type": "code",
   "execution_count": null,
   "metadata": {},
   "outputs": [],
   "source": [
    "result = DataFrame()\n",
    "\n",
    "family = []\n",
    "days = []\n",
    "\n",
    "\n",
    "for i in 1:5000\n",
    "    for j in 1:100\n",
    "        if value(Family_Attendance[i, j]) == 1\n",
    "            push!(family, i-1)\n",
    "            push!(days, j)\n",
    "        end\n",
    "    end\n",
    "end\n",
    "\n",
    "result.family_id = family\n",
    "result.days = days\n",
    "\n",
    "result"
   ]
  },
  {
   "cell_type": "code",
   "execution_count": null,
   "metadata": {},
   "outputs": [],
   "source": []
  }
 ],
 "metadata": {
  "kernelspec": {
   "display_name": "Julia 1.10.0",
   "language": "julia",
   "name": "julia-1.10"
  },
  "language_info": {
   "file_extension": ".jl",
   "mimetype": "application/julia",
   "name": "julia",
   "version": "1.10.0"
  }
 },
 "nbformat": 4,
 "nbformat_minor": 2
}
