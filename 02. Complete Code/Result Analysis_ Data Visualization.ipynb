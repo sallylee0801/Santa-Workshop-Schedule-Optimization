{
 "cells": [
  {
   "cell_type": "markdown",
   "id": "f5478a7c-94b5-46e8-b363-6dc95e0c4dfd",
   "metadata": {},
   "source": [
    "## Visualization for Santa workshop"
   ]
  },
  {
   "cell_type": "code",
   "execution_count": 21,
   "id": "d1eea4b1-c9eb-43be-bfdc-284fd376ef49",
   "metadata": {
    "tags": []
   },
   "outputs": [],
   "source": [
    "import pandas as pd\n",
    "import matplotlib.pyplot as plt\n"
   ]
  },
  {
   "cell_type": "code",
   "execution_count": 22,
   "id": "15046099-6417-44a1-8d17-4e07adfcbdb7",
   "metadata": {
    "tags": []
   },
   "outputs": [],
   "source": [
    "original = pd.read_csv('/Users/kevinko/Desktop/Uchicago/Optimization/Final Project/family_data.csv')\n",
    "result = pd.read_csv('/Users/kevinko/Desktop/Uchicago/Optimization/Final Project/Result.csv')"
   ]
  },
  {
   "cell_type": "code",
   "execution_count": 23,
   "id": "d3ca4993-4b01-4151-b5c2-e115e98c76a8",
   "metadata": {
    "tags": []
   },
   "outputs": [
    {
     "data": {
      "text/html": [
       "<div>\n",
       "<style scoped>\n",
       "    .dataframe tbody tr th:only-of-type {\n",
       "        vertical-align: middle;\n",
       "    }\n",
       "\n",
       "    .dataframe tbody tr th {\n",
       "        vertical-align: top;\n",
       "    }\n",
       "\n",
       "    .dataframe thead th {\n",
       "        text-align: right;\n",
       "    }\n",
       "</style>\n",
       "<table border=\"1\" class=\"dataframe\">\n",
       "  <thead>\n",
       "    <tr style=\"text-align: right;\">\n",
       "      <th></th>\n",
       "      <th>family_id</th>\n",
       "      <th>choice_0</th>\n",
       "      <th>choice_1</th>\n",
       "      <th>choice_2</th>\n",
       "      <th>choice_3</th>\n",
       "      <th>choice_4</th>\n",
       "      <th>choice_5</th>\n",
       "      <th>choice_6</th>\n",
       "      <th>choice_7</th>\n",
       "      <th>choice_8</th>\n",
       "      <th>choice_9</th>\n",
       "      <th>n_people</th>\n",
       "    </tr>\n",
       "  </thead>\n",
       "  <tbody>\n",
       "    <tr>\n",
       "      <th>0</th>\n",
       "      <td>0</td>\n",
       "      <td>52</td>\n",
       "      <td>38</td>\n",
       "      <td>12</td>\n",
       "      <td>82</td>\n",
       "      <td>33</td>\n",
       "      <td>75</td>\n",
       "      <td>64</td>\n",
       "      <td>76</td>\n",
       "      <td>10</td>\n",
       "      <td>28</td>\n",
       "      <td>4</td>\n",
       "    </tr>\n",
       "    <tr>\n",
       "      <th>1</th>\n",
       "      <td>1</td>\n",
       "      <td>26</td>\n",
       "      <td>4</td>\n",
       "      <td>82</td>\n",
       "      <td>5</td>\n",
       "      <td>11</td>\n",
       "      <td>47</td>\n",
       "      <td>38</td>\n",
       "      <td>6</td>\n",
       "      <td>66</td>\n",
       "      <td>61</td>\n",
       "      <td>4</td>\n",
       "    </tr>\n",
       "    <tr>\n",
       "      <th>2</th>\n",
       "      <td>2</td>\n",
       "      <td>100</td>\n",
       "      <td>54</td>\n",
       "      <td>25</td>\n",
       "      <td>12</td>\n",
       "      <td>27</td>\n",
       "      <td>82</td>\n",
       "      <td>10</td>\n",
       "      <td>89</td>\n",
       "      <td>80</td>\n",
       "      <td>33</td>\n",
       "      <td>3</td>\n",
       "    </tr>\n",
       "    <tr>\n",
       "      <th>3</th>\n",
       "      <td>3</td>\n",
       "      <td>2</td>\n",
       "      <td>95</td>\n",
       "      <td>1</td>\n",
       "      <td>96</td>\n",
       "      <td>32</td>\n",
       "      <td>6</td>\n",
       "      <td>40</td>\n",
       "      <td>31</td>\n",
       "      <td>9</td>\n",
       "      <td>59</td>\n",
       "      <td>2</td>\n",
       "    </tr>\n",
       "    <tr>\n",
       "      <th>4</th>\n",
       "      <td>4</td>\n",
       "      <td>53</td>\n",
       "      <td>1</td>\n",
       "      <td>47</td>\n",
       "      <td>93</td>\n",
       "      <td>26</td>\n",
       "      <td>3</td>\n",
       "      <td>46</td>\n",
       "      <td>16</td>\n",
       "      <td>42</td>\n",
       "      <td>39</td>\n",
       "      <td>4</td>\n",
       "    </tr>\n",
       "  </tbody>\n",
       "</table>\n",
       "</div>"
      ],
      "text/plain": [
       "   family_id  choice_0  choice_1  choice_2  choice_3  choice_4  choice_5  \\\n",
       "0          0        52        38        12        82        33        75   \n",
       "1          1        26         4        82         5        11        47   \n",
       "2          2       100        54        25        12        27        82   \n",
       "3          3         2        95         1        96        32         6   \n",
       "4          4        53         1        47        93        26         3   \n",
       "\n",
       "   choice_6  choice_7  choice_8  choice_9  n_people  \n",
       "0        64        76        10        28         4  \n",
       "1        38         6        66        61         4  \n",
       "2        10        89        80        33         3  \n",
       "3        40        31         9        59         2  \n",
       "4        46        16        42        39         4  "
      ]
     },
     "execution_count": 23,
     "metadata": {},
     "output_type": "execute_result"
    }
   ],
   "source": [
    "original.head()"
   ]
  },
  {
   "cell_type": "code",
   "execution_count": 24,
   "id": "d5294880-80ff-4b25-bad8-1a69cb96dcaa",
   "metadata": {
    "tags": []
   },
   "outputs": [
    {
     "data": {
      "text/html": [
       "<div>\n",
       "<style scoped>\n",
       "    .dataframe tbody tr th:only-of-type {\n",
       "        vertical-align: middle;\n",
       "    }\n",
       "\n",
       "    .dataframe tbody tr th {\n",
       "        vertical-align: top;\n",
       "    }\n",
       "\n",
       "    .dataframe thead th {\n",
       "        text-align: right;\n",
       "    }\n",
       "</style>\n",
       "<table border=\"1\" class=\"dataframe\">\n",
       "  <thead>\n",
       "    <tr style=\"text-align: right;\">\n",
       "      <th></th>\n",
       "      <th>Row</th>\n",
       "      <th>family_id</th>\n",
       "      <th>days</th>\n",
       "    </tr>\n",
       "  </thead>\n",
       "  <tbody>\n",
       "    <tr>\n",
       "      <th>0</th>\n",
       "      <td>1</td>\n",
       "      <td>0.0</td>\n",
       "      <td>52.0</td>\n",
       "    </tr>\n",
       "    <tr>\n",
       "      <th>1</th>\n",
       "      <td>2</td>\n",
       "      <td>1.0</td>\n",
       "      <td>26.0</td>\n",
       "    </tr>\n",
       "    <tr>\n",
       "      <th>2</th>\n",
       "      <td>3</td>\n",
       "      <td>2.0</td>\n",
       "      <td>100.0</td>\n",
       "    </tr>\n",
       "    <tr>\n",
       "      <th>3</th>\n",
       "      <td>4</td>\n",
       "      <td>3.0</td>\n",
       "      <td>2.0</td>\n",
       "    </tr>\n",
       "    <tr>\n",
       "      <th>4</th>\n",
       "      <td>5</td>\n",
       "      <td>4.0</td>\n",
       "      <td>53.0</td>\n",
       "    </tr>\n",
       "  </tbody>\n",
       "</table>\n",
       "</div>"
      ],
      "text/plain": [
       "  Row  family_id   days\n",
       "0   1        0.0   52.0\n",
       "1   2        1.0   26.0\n",
       "2   3        2.0  100.0\n",
       "3   4        3.0    2.0\n",
       "4   5        4.0   53.0"
      ]
     },
     "execution_count": 24,
     "metadata": {},
     "output_type": "execute_result"
    }
   ],
   "source": [
    "result.head()"
   ]
  },
  {
   "cell_type": "code",
   "execution_count": 25,
   "id": "47209493-3541-4499-9553-f5ce49e9eb13",
   "metadata": {
    "tags": []
   },
   "outputs": [],
   "source": [
    "#merge the orignal dataset and result on family_id\n",
    "merged_df = pd.merge(original, result, on='family_id', how='outer')"
   ]
  },
  {
   "cell_type": "code",
   "execution_count": 35,
   "id": "b1cd4f0e-1513-4a77-bc0e-0f8213d815e7",
   "metadata": {
    "tags": []
   },
   "outputs": [],
   "source": [
    "choice_0_counts = merged_df[merged_df['choice_0'] == merged_df['days']].groupby('n_people').size()\n",
    "merged_df.dropna(inplace=True)"
   ]
  },
  {
   "cell_type": "code",
   "execution_count": null,
   "id": "79456794-b7d5-42a6-b4ca-c2065a552c7b",
   "metadata": {},
   "outputs": [],
   "source": [
    "total_counts = merged_df.groupby('n_people').size()\n",
    "\n",
    "percentage_choice_0 = (choice_0_counts / total_counts) * 100\n",
    "\n",
    "print(\"Percentage of each family size that got their top choice (choice_0):\")\n",
    "print(percentage_choice_0)"
   ]
  },
  {
   "cell_type": "code",
   "execution_count": 42,
   "id": "8401610b-4484-4114-a6eb-0f20aabac8e2",
   "metadata": {
    "tags": []
   },
   "outputs": [
    {
     "data": {
      "image/png": "[encoded data removed]",
      "text/plain": [
       "<Figure size 1000x600 with 1 Axes>"
      ]
     },
     "metadata": {},
     "output_type": "display_data"
    }
   ],
   "source": [
    "plt.figure(figsize=(10, 6))\n",
    "choice_0_counts.plot(kind='bar', color='skyblue')\n",
    "plt.xlabel('Number of People in the Family')\n",
    "plt.ylabel('Count of Choice_0 Placements')\n",
    "plt.title('Distribution of Choice_0 Placements by Family Size')\n",
    "plt.xticks(rotation=0)\n",
    "plt.grid(axis='y')\n",
    "\n",
    "for i, count in enumerate(choice_0_counts):\n",
    "    plt.text(i, count + 0.1, f'{percentage_choice_0.iloc[i]:.2f}%', ha='center')\n",
    "    \n",
    "plt.show()"
   ]
  }
 ],
 "metadata": {
  "kernelspec": {
   "display_name": "Python 3 (ipykernel)",
   "language": "python",
   "name": "python3"
  },
  "language_info": {
   "codemirror_mode": {
    "name": "ipython",
    "version": 3
   },
   "file_extension": ".py",
   "mimetype": "text/x-python",
   "name": "python",
   "nbconvert_exporter": "python",
   "pygments_lexer": "ipython3",
   "version": "3.11.4"
  }
 },
 "nbformat": 4,
 "nbformat_minor": 5
}
